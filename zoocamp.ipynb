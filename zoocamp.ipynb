{
 "cells": [
  {
   "cell_type": "code",
   "execution_count": 1,
   "id": "625a2c47-4a2e-4579-ae38-4e5a63172668",
   "metadata": {},
   "outputs": [
    {
     "name": "stdout",
     "output_type": "stream",
     "text": [
      "heloo\n"
     ]
    }
   ],
   "source": [
    "print(\"heloo\")"
   ]
  },
  {
   "cell_type": "code",
   "execution_count": 3,
   "id": "058b2398-8d09-45d2-813f-a6e53a9824eb",
   "metadata": {},
   "outputs": [
    {
     "ename": "SyntaxError",
     "evalue": "invalid decimal literal (840434349.py, line 1)",
     "output_type": "error",
     "traceback": [
      "\u001b[1;36m  Cell \u001b[1;32mIn[3], line 1\u001b[1;36m\u001b[0m\n\u001b[1;33m    wget https://github.com/DataTalksClub/nyc-tlc-data/releases/download/green/green_tripdata_2019-09.csv.gz\u001b[0m\n\u001b[1;37m                                                                                                     ^\u001b[0m\n\u001b[1;31mSyntaxError\u001b[0m\u001b[1;31m:\u001b[0m invalid decimal literal\n"
     ]
    }
   ],
   "source": [
    "wget https://github.com/DataTalksClub/nyc-tlc-data/releases/download/green/green_tripdata_2019-09.csv.gz\n",
    "wget https://s3.amazonaws.com/nyc-tlc/misc/taxi+_zone_lookup.csv\n"
   ]
  },
  {
   "cell_type": "code",
   "execution_count": 4,
   "id": "914e4712-4f48-4500-9b8d-02080d2dd034",
   "metadata": {},
   "outputs": [
    {
     "name": "stdout",
     "output_type": "stream",
     "text": [
      "File downloaded successfully.\n"
     ]
    }
   ],
   "source": [
    "import requests\n",
    "import shutil\n",
    "\n",
    "url = \"https://github.com/DataTalksClub/nyc-tlc-data/releases/download/green/green_tripdata_2019-09.csv.gz\"\n",
    "output_file = \"green_tripdata_2019-09.csv.gz\"\n",
    "\n",
    "response = requests.get(url, stream=True)\n",
    "with open(output_file, 'wb') as file:\n",
    "    shutil.copyfileobj(response.raw, file)\n",
    "\n",
    "# Optionally, you can check if the file is downloaded successfully\n",
    "if response.status_code == 200:\n",
    "    print(\"File downloaded successfully.\")\n",
    "else:\n",
    "    print(f\"Failed to download the file. Status code: {response.status_code}\")\n"
   ]
  },
  {
   "cell_type": "code",
   "execution_count": 5,
   "id": "407295b1-1aa1-45d8-bca9-c73067353975",
   "metadata": {},
   "outputs": [
    {
     "name": "stdout",
     "output_type": "stream",
     "text": [
      "File downloaded successfully.\n"
     ]
    }
   ],
   "source": [
    "import requests\n",
    "import shutil\n",
    "\n",
    "url = \"https://s3.amazonaws.com/nyc-tlc/misc/taxi+_zone_lookup.csv\"\n",
    "output_file = \"taxi+_zone_lookup.csv\"\n",
    "\n",
    "response = requests.get(url, stream=True)\n",
    "with open(output_file, 'wb') as file:\n",
    "    shutil.copyfileobj(response.raw, file)\n",
    "\n",
    "# Optionally, you can check if the file is downloaded successfully\n",
    "if response.status_code == 200:\n",
    "    print(\"File downloaded successfully.\")\n",
    "else:\n",
    "    print(f\"Failed to download the file. Status code: {response.status_code}\")\n"
   ]
  },
  {
   "cell_type": "code",
   "execution_count": 2,
   "id": "67b62e76-1a96-4dd7-b331-6f501fa90c59",
   "metadata": {},
   "outputs": [],
   "source": [
    "import pandas as pd\n",
    "import psycopg2\n",
    "from sqlalchemy import create_engine\n",
    "from sqlalchemy.exc import OperationalError\n",
    "\n",
    "# Replace with your database name and credentials\n",
    "db_name = 'zoomcamp'\n",
    "db_user = 'postgres'\n",
    "db_password = 'HEND'\n",
    "db_host = 'localhost'\n",
    "db_port = '5432'\n",
    "\n",
    "# Connect to PostgreSQL\n",
    "engine = create_engine(f'postgresql://{db_user}:{db_password}@{db_host}:{db_port}/{db_name}')\n",
    "\n",
    "try:\n",
    "    # Try to connect and create the database\n",
    "    engine.connect()\n",
    "except OperationalError as e:\n",
    "    # If the database doesn't exist, create it\n",
    "    if \"does not exist\" in str(e):\n",
    "        print(f\"Database '{db_name}' does not exist. Creating it...\")\n",
    "        connection = psycopg2.connect(\n",
    "            dbname='postgres',\n",
    "            user=db_user,\n",
    "            password=db_password,\n",
    "            host=db_host,\n",
    "            port=db_port\n",
    "        )\n",
    "        connection.autocommit = True\n",
    "        cursor = connection.cursor()\n",
    "        cursor.execute(f'CREATE DATABASE {db_name}')\n",
    "        cursor.close()\n",
    "        connection.close()\n",
    "        print(f\"Database '{db_name}' created successfully.\")\n",
    "    else:\n",
    "        # If it's a different OperationalError, print the error\n",
    "        raise\n",
    "\n",
    "# Load Green Taxi data\n"
   ]
  },
  {
   "cell_type": "code",
   "execution_count": 3,
   "id": "3bf811d8-9efb-48cc-b41c-f43bd2515e7d",
   "metadata": {},
   "outputs": [
    {
     "data": {
      "text/plain": [
       "63"
      ]
     },
     "execution_count": 3,
     "metadata": {},
     "output_type": "execute_result"
    }
   ],
   "source": [
    "green_taxi_data = pd.read_csv('green_tripdata_2019-09.csv.gz',low_memory=False)\n",
    "green_taxi_data.to_sql('green_taxi_trips', engine, index=False, if_exists='replace')"
   ]
  },
  {
   "cell_type": "code",
   "execution_count": 4,
   "id": "7b19e6dd-16d2-4a77-81a8-935940867660",
   "metadata": {},
   "outputs": [
    {
     "data": {
      "text/plain": [
       "265"
      ]
     },
     "execution_count": 4,
     "metadata": {},
     "output_type": "execute_result"
    }
   ],
   "source": [
    "# Load Taxi Zone Lookup data\n",
    "taxi_zone_data = pd.read_csv('taxi+_zone_lookup.csv')\n",
    "taxi_zone_data.to_sql('taxi_zone_lookup', engine, index=False, if_exists='replace')\n"
   ]
  },
  {
   "cell_type": "code",
   "execution_count": 5,
   "id": "4db20f38-2801-4fbf-a832-e589199ec7d8",
   "metadata": {},
   "outputs": [
    {
     "name": "stdout",
     "output_type": "stream",
     "text": [
      "     LocationID        Borough                     Zone service_zone\n",
      "0             1            EWR           Newark Airport          EWR\n",
      "1             2         Queens              Jamaica Bay    Boro Zone\n",
      "2             3          Bronx  Allerton/Pelham Gardens    Boro Zone\n",
      "3             4      Manhattan            Alphabet City  Yellow Zone\n",
      "4             5  Staten Island            Arden Heights    Boro Zone\n",
      "..          ...            ...                      ...          ...\n",
      "260         261      Manhattan       World Trade Center  Yellow Zone\n",
      "261         262      Manhattan           Yorkville East  Yellow Zone\n",
      "262         263      Manhattan           Yorkville West  Yellow Zone\n",
      "263         264        Unknown                       NV          NaN\n",
      "264         265        Unknown                      NaN          NaN\n",
      "\n",
      "[265 rows x 4 columns]\n"
     ]
    }
   ],
   "source": [
    "print (taxi_zone_data)"
   ]
  },
  {
   "cell_type": "code",
   "execution_count": 6,
   "id": "fb2fd11b-341f-4806-a646-b7156171d396",
   "metadata": {},
   "outputs": [
    {
     "name": "stdout",
     "output_type": "stream",
     "text": [
      "        VendorID lpep_pickup_datetime lpep_dropoff_datetime  \\\n",
      "0            2.0  2019-09-01 00:10:53   2019-09-01 00:23:46   \n",
      "1            2.0  2019-09-01 00:31:22   2019-09-01 00:44:37   \n",
      "2            2.0  2019-09-01 00:50:24   2019-09-01 01:03:20   \n",
      "3            2.0  2019-09-01 00:27:06   2019-09-01 00:33:22   \n",
      "4            2.0  2019-09-01 00:43:23   2019-09-01 00:59:54   \n",
      "...          ...                  ...                   ...   \n",
      "449058       NaN  2019-09-30 23:13:00   2019-09-30 23:41:00   \n",
      "449059       NaN  2019-09-30 23:26:00   2019-09-30 23:46:00   \n",
      "449060       NaN  2019-09-30 23:15:00   2019-09-30 23:43:00   \n",
      "449061       NaN  2019-09-30 23:19:00   2019-10-01 00:06:00   \n",
      "449062       NaN  2019-09-30 23:35:00   2019-09-30 23:58:00   \n",
      "\n",
      "       store_and_fwd_flag  RatecodeID  PULocationID  DOLocationID  \\\n",
      "0                       N         1.0            65           189   \n",
      "1                       N         1.0            97           225   \n",
      "2                       N         1.0            37            61   \n",
      "3                       N         1.0           145           112   \n",
      "4                       N         1.0           112           198   \n",
      "...                   ...         ...           ...           ...   \n",
      "449058                NaN         NaN            66            71   \n",
      "449059                NaN         NaN            55            26   \n",
      "449060                NaN         NaN           139            78   \n",
      "449061                NaN         NaN           242           188   \n",
      "449062                NaN         NaN           155           189   \n",
      "\n",
      "        passenger_count  trip_distance  fare_amount  extra  mta_tax  \\\n",
      "0                   5.0           2.00        10.50   0.50      0.5   \n",
      "1                   5.0           3.20        12.00   0.50      0.5   \n",
      "2                   5.0           2.99        12.00   0.50      0.5   \n",
      "3                   1.0           1.73         7.50   0.50      0.5   \n",
      "4                   1.0           3.42        14.00   0.50      0.5   \n",
      "...                 ...            ...          ...    ...      ...   \n",
      "449058              NaN           7.84        43.25   2.75      0.5   \n",
      "449059              NaN           3.56        25.75   2.75      0.5   \n",
      "449060              NaN          18.47        50.47   2.75      0.5   \n",
      "449061              NaN          20.10        58.22   2.75      0.5   \n",
      "449062              NaN           5.87        26.07   2.75      0.5   \n",
      "\n",
      "        tip_amount  tolls_amount  ehail_fee  improvement_surcharge  \\\n",
      "0             2.36          0.00        NaN                    0.3   \n",
      "1             0.00          0.00        NaN                    0.3   \n",
      "2             0.00          0.00        NaN                    0.3   \n",
      "3             1.50          0.00        NaN                    0.3   \n",
      "4             3.06          0.00        NaN                    0.3   \n",
      "...            ...           ...        ...                    ...   \n",
      "449058        0.00          0.00        NaN                    0.0   \n",
      "449059        0.00          0.00        NaN                    0.0   \n",
      "449060        0.00          6.12        NaN                    0.0   \n",
      "449061        0.00          6.12        NaN                    0.0   \n",
      "449062        0.00          0.00        NaN                    0.0   \n",
      "\n",
      "        total_amount  payment_type  trip_type  congestion_surcharge  \n",
      "0              14.16           1.0        1.0                   0.0  \n",
      "1              13.30           2.0        1.0                   0.0  \n",
      "2              13.30           2.0        1.0                   0.0  \n",
      "3              10.30           1.0        1.0                   0.0  \n",
      "4              18.36           1.0        1.0                   0.0  \n",
      "...              ...           ...        ...                   ...  \n",
      "449058         46.50           NaN        NaN                   NaN  \n",
      "449059         29.00           NaN        NaN                   NaN  \n",
      "449060         59.84           NaN        NaN                   NaN  \n",
      "449061         67.59           NaN        NaN                   NaN  \n",
      "449062         29.32           NaN        NaN                   NaN  \n",
      "\n",
      "[449063 rows x 20 columns]\n"
     ]
    }
   ],
   "source": [
    "print (green_taxi_data)"
   ]
  },
  {
   "cell_type": "code",
   "execution_count": null,
   "id": "9680f131-ec02-4777-bf70-c35392b8fe40",
   "metadata": {},
   "outputs": [],
   "source": []
  }
 ],
 "metadata": {
  "kernelspec": {
   "display_name": "Python 3 (ipykernel)",
   "language": "python",
   "name": "python3"
  },
  "language_info": {
   "codemirror_mode": {
    "name": "ipython",
    "version": 3
   },
   "file_extension": ".py",
   "mimetype": "text/x-python",
   "name": "python",
   "nbconvert_exporter": "python",
   "pygments_lexer": "ipython3",
   "version": "3.11.4"
  }
 },
 "nbformat": 4,
 "nbformat_minor": 5
}
